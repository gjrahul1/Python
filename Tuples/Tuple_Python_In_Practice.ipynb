{
 "cells": [
  {
   "cell_type": "markdown",
   "id": "19775bac",
   "metadata": {},
   "source": [
    "##### Tuples\n"
   ]
  },
  {
   "cell_type": "markdown",
   "id": "2a8816b1",
   "metadata": {},
   "source": [
    "1. Tuples are datatypes which are immutable.\n",
    "2. Tuples are within ()\n",
    "3. Elements in tuples cannot be removed"
   ]
  },
  {
   "cell_type": "code",
   "execution_count": 1,
   "id": "ba21567f",
   "metadata": {},
   "outputs": [
    {
     "name": "stdout",
     "output_type": "stream",
     "text": [
      "(1, 2, 3, 4)\n",
      "(1.0, 1.2, 1.3)\n",
      "('p', 'y', 't', 'h', 'o', 'n')\n"
     ]
    }
   ],
   "source": [
    "#Homogenous Tuples\n",
    "tpl=(1,2,3,4)\n",
    "print(tpl)\n",
    "tpl=(1.0,1.2,1.3)\n",
    "print(tpl)\n",
    "tpl=('p','y','t','h','o','n')\n",
    "print(tpl)"
   ]
  },
  {
   "cell_type": "code",
   "execution_count": 2,
   "id": "511b65cf",
   "metadata": {},
   "outputs": [
    {
     "name": "stdout",
     "output_type": "stream",
     "text": [
      "(2, 4, 6, 8, 'p', 'y', 't', 'h', 'o', 'n')\n"
     ]
    }
   ],
   "source": [
    "#Heterogenous Tuples\n",
    "tpl1=(2,4,6,8)\n",
    "tpl2=('p','y','t','h','o','n')\n",
    "tpl=tpl1+tpl2\n",
    "print(tpl)"
   ]
  },
  {
   "cell_type": "code",
   "execution_count": 3,
   "id": "72ed456f",
   "metadata": {},
   "outputs": [
    {
     "name": "stdout",
     "output_type": "stream",
     "text": [
      "((1, 3, 5, 7), ('p', 'y', 't', 'h', 'o', 'n'))\n"
     ]
    }
   ],
   "source": [
    "#Heterogenous Tuples\n",
    "tpl1=(1,3,5,7)\n",
    "tpl2=tuple(('python'))\n",
    "tpl=(tpl1,tpl2)\n",
    "print(tpl)"
   ]
  },
  {
   "cell_type": "code",
   "execution_count": 4,
   "id": "af508c31",
   "metadata": {},
   "outputs": [
    {
     "name": "stdout",
     "output_type": "stream",
     "text": [
      "(1, 3, 5, 7, 'p', 'y', 't', 'h', 'o', 'n')\n"
     ]
    }
   ],
   "source": [
    "#Unpacking Tuples\n",
    "tpl=(*tpl1,*tpl2)\n",
    "print(tpl)"
   ]
  },
  {
   "cell_type": "code",
   "execution_count": 5,
   "id": "84234c91",
   "metadata": {},
   "outputs": [
    {
     "ename": "TypeError",
     "evalue": "'tuple' object does not support item assignment",
     "output_type": "error",
     "traceback": [
      "\u001b[1;31m---------------------------------------------------------------------------\u001b[0m",
      "\u001b[1;31mTypeError\u001b[0m                                 Traceback (most recent call last)",
      "Input \u001b[1;32mIn [5]\u001b[0m, in \u001b[0;36m<cell line: 2>\u001b[1;34m()\u001b[0m\n\u001b[0;32m      1\u001b[0m \u001b[38;5;66;03m#Try modifying tuple\u001b[39;00m\n\u001b[1;32m----> 2\u001b[0m tpl[\u001b[38;5;241m0\u001b[39m]\u001b[38;5;241m=\u001b[39m\u001b[38;5;241m3\u001b[39m\n\u001b[0;32m      3\u001b[0m \u001b[38;5;28mprint\u001b[39m(tpl)\n",
      "\u001b[1;31mTypeError\u001b[0m: 'tuple' object does not support item assignment"
     ]
    }
   ],
   "source": [
    "#Try modifying tuple\n",
    "tpl[0]=3\n",
    "print(tpl)"
   ]
  },
  {
   "cell_type": "code",
   "execution_count": 6,
   "id": "ae2b4428",
   "metadata": {},
   "outputs": [
    {
     "ename": "TypeError",
     "evalue": "'tuple' object doesn't support item deletion",
     "output_type": "error",
     "traceback": [
      "\u001b[1;31m---------------------------------------------------------------------------\u001b[0m",
      "\u001b[1;31mTypeError\u001b[0m                                 Traceback (most recent call last)",
      "Input \u001b[1;32mIn [6]\u001b[0m, in \u001b[0;36m<cell line: 2>\u001b[1;34m()\u001b[0m\n\u001b[0;32m      1\u001b[0m \u001b[38;5;66;03m#Try deleting an element off the tuple\u001b[39;00m\n\u001b[1;32m----> 2\u001b[0m \u001b[38;5;28;01mdel\u001b[39;00m(tpl[\u001b[38;5;241m1\u001b[39m])\n\u001b[0;32m      3\u001b[0m \u001b[38;5;28mprint\u001b[39m(tpl)\n",
      "\u001b[1;31mTypeError\u001b[0m: 'tuple' object doesn't support item deletion"
     ]
    }
   ],
   "source": [
    "#Try deleting an element off the tuple\n",
    "del(tpl[1])\n",
    "print(tpl)"
   ]
  },
  {
   "cell_type": "markdown",
   "id": "36bb00c4",
   "metadata": {},
   "source": [
    "#### Therefore tuples are immutable and cannot be altered is proved"
   ]
  },
  {
   "cell_type": "code",
   "execution_count": 7,
   "id": "b4272d4a",
   "metadata": {
    "scrolled": true
   },
   "outputs": [
    {
     "name": "stdout",
     "output_type": "stream",
     "text": [
      "Original Tuple: (1, 2, 3, 4, 5)\n",
      "Replacing 1 with 0 in the tuple using list method\n",
      "Modified Tuple: (0, 2, 3, 4, 5)\n"
     ]
    }
   ],
   "source": [
    "#Alternative ways to modify tuple \n",
    "#using lists\n",
    "lst1=[1,2,3,4,5]\n",
    "tpl1=tuple(lst1)\n",
    "print(\"Original Tuple:\",tpl1)\n",
    "print(\"Replacing 1 with 0 in the tuple using list method\")\n",
    "lst1[0]=0\n",
    "tpl1=tuple(lst1)\n",
    "print(\"Modified Tuple:\",tpl1)"
   ]
  },
  {
   "cell_type": "code",
   "execution_count": 8,
   "id": "7d11af6c",
   "metadata": {},
   "outputs": [
    {
     "name": "stdout",
     "output_type": "stream",
     "text": [
      "3\n"
     ]
    }
   ],
   "source": [
    "#Tuple can be accessed using indexing\n",
    "print(tpl1[2])"
   ]
  },
  {
   "cell_type": "code",
   "execution_count": 9,
   "id": "739d9588",
   "metadata": {},
   "outputs": [
    {
     "name": "stdout",
     "output_type": "stream",
     "text": [
      "Before Adding Element To The Tuple: (0, 2, 3, 4, 5)\n",
      "After Adding Element To The Tuple: (0, 2, 3, 4, 5, 7, 8, 9)\n"
     ]
    }
   ],
   "source": [
    "#Adding elements to the tuple\n",
    "print(\"Before Adding Element To The Tuple:\",tpl1)\n",
    "tpl=tpl1+(7,8,9)\n",
    "print(\"After Adding Element To The Tuple:\",tpl)"
   ]
  },
  {
   "cell_type": "markdown",
   "id": "b301dc2c",
   "metadata": {},
   "source": [
    "### Built In Functions"
   ]
  },
  {
   "cell_type": "code",
   "execution_count": 9,
   "id": "e45ad283",
   "metadata": {},
   "outputs": [
    {
     "name": "stdout",
     "output_type": "stream",
     "text": [
      "Total Number of 2 Element in the tuple is 3\n"
     ]
    }
   ],
   "source": [
    "tpl1=(11,223,33,4,12,1,2,11,3,1,2,2)\n",
    "tpl=tpl1.count(2)\n",
    "print(\"Total Number of {} Element in the tuple is {}\".format(2,tpl))"
   ]
  },
  {
   "cell_type": "code",
   "execution_count": 10,
   "id": "3a2a2f9b",
   "metadata": {},
   "outputs": [
    {
     "name": "stdout",
     "output_type": "stream",
     "text": [
      "Index of 2 is 6\n"
     ]
    }
   ],
   "source": [
    "tpl=tpl1.index(2)\n",
    "print(\"Index of 2 is\",tpl)"
   ]
  },
  {
   "cell_type": "code",
   "execution_count": 14,
   "id": "c85cc149",
   "metadata": {},
   "outputs": [
    {
     "name": "stdout",
     "output_type": "stream",
     "text": [
      "Before Sorting The Tuple\n",
      "(11, 223, 33, 4, 12, 1, 2, 11, 3, 1, 2, 2)\n",
      "After Sorting The Tuple\n",
      "[1, 1, 2, 2, 2, 3, 4, 11, 11, 12, 33, 223]\n",
      "But this sorted tuple gets converted to list\n"
     ]
    }
   ],
   "source": [
    "print(\"Before Sorting The Tuple\")\n",
    "print(tpl1)\n",
    "res=sorted(tpl1)\n",
    "print(\"After Sorting The Tuple\")\n",
    "print(res)\n",
    "print(\"But this sorted tuple gets converted to list\")\n",
    "#So we need to convert to tuple from list using tuple function"
   ]
  },
  {
   "cell_type": "code",
   "execution_count": 15,
   "id": "6e4503c1",
   "metadata": {},
   "outputs": [
    {
     "name": "stdout",
     "output_type": "stream",
     "text": [
      "Sorted Tuple (1, 1, 2, 2, 2, 3, 4, 11, 11, 12, 33, 223)\n"
     ]
    }
   ],
   "source": [
    "tpl1=tuple(sorted(tpl1))\n",
    "print(\"Sorted Tuple\",tpl1)"
   ]
  },
  {
   "cell_type": "code",
   "execution_count": 17,
   "id": "490927ba",
   "metadata": {},
   "outputs": [
    {
     "name": "stdout",
     "output_type": "stream",
     "text": [
      "12\n"
     ]
    }
   ],
   "source": [
    "#Length of the tuple\n",
    "res=len(tpl1)\n",
    "print(res)"
   ]
  },
  {
   "cell_type": "code",
   "execution_count": 18,
   "id": "b27810f6",
   "metadata": {},
   "outputs": [
    {
     "name": "stdout",
     "output_type": "stream",
     "text": [
      "223\n"
     ]
    }
   ],
   "source": [
    "#Maximum Value in a tuple\n",
    "res=max(tpl1)\n",
    "print(res)"
   ]
  },
  {
   "cell_type": "code",
   "execution_count": 19,
   "id": "f739e2a0",
   "metadata": {},
   "outputs": [
    {
     "name": "stdout",
     "output_type": "stream",
     "text": [
      "1\n"
     ]
    }
   ],
   "source": [
    "#Minimum Value in a tuple\n",
    "res=min(tpl1)\n",
    "print(res)"
   ]
  },
  {
   "cell_type": "code",
   "execution_count": 20,
   "id": "a036942e",
   "metadata": {},
   "outputs": [
    {
     "name": "stdout",
     "output_type": "stream",
     "text": [
      "Sum 61\n"
     ]
    }
   ],
   "source": [
    "#Udemy Problem: Find the sum of the given tuple\n",
    "tpl=(12,17,11,21)\n",
    "res=sum(tpl)\n",
    "print(\"Sum\",res)"
   ]
  },
  {
   "cell_type": "code",
   "execution_count": null,
   "id": "56a35579",
   "metadata": {},
   "outputs": [],
   "source": []
  }
 ],
 "metadata": {
  "kernelspec": {
   "display_name": "Python 3 (ipykernel)",
   "language": "python",
   "name": "python3"
  },
  "language_info": {
   "codemirror_mode": {
    "name": "ipython",
    "version": 3
   },
   "file_extension": ".py",
   "mimetype": "text/x-python",
   "name": "python",
   "nbconvert_exporter": "python",
   "pygments_lexer": "ipython3",
   "version": "3.9.12"
  }
 },
 "nbformat": 4,
 "nbformat_minor": 5
}
