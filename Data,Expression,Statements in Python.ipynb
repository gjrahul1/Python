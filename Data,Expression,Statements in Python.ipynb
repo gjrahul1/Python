{
 "cells": [
  {
   "attachments": {},
   "cell_type": "markdown",
   "id": "aef5b3e8",
   "metadata": {},
   "source": [
    "#### Multiline Statement"
   ]
  },
  {
   "cell_type": "code",
   "execution_count": 1,
   "id": "2b49a44b",
   "metadata": {},
   "outputs": [],
   "source": [
    "a=(1+2+3+\n",
    "  4+5+6+\n",
    "  7+8+9)"
   ]
  },
  {
   "cell_type": "code",
   "execution_count": 2,
   "id": "c2716ce8",
   "metadata": {},
   "outputs": [
    {
     "name": "stdout",
     "output_type": "stream",
     "text": [
      "45\n"
     ]
    }
   ],
   "source": [
    "print(a)\n"
   ]
  },
  {
   "cell_type": "code",
   "execution_count": 3,
   "id": "de432593",
   "metadata": {},
   "outputs": [],
   "source": [
    "colors = ['red','blue',\n",
    "         'black','green']"
   ]
  },
  {
   "cell_type": "code",
   "execution_count": 4,
   "id": "93462a4c",
   "metadata": {},
   "outputs": [
    {
     "name": "stdout",
     "output_type": "stream",
     "text": [
      "['red', 'blue', 'black', 'green']\n"
     ]
    }
   ],
   "source": [
    "print(colors)"
   ]
  },
  {
   "attachments": {},
   "cell_type": "markdown",
   "id": "bd5867b6",
   "metadata": {},
   "source": [
    "#### Strings"
   ]
  },
  {
   "cell_type": "code",
   "execution_count": 13,
   "id": "9771fe99",
   "metadata": {},
   "outputs": [
    {
     "name": "stdout",
     "output_type": "stream",
     "text": [
      "Python Can Write In This Way Too\n"
     ]
    }
   ],
   "source": [
    "Value = \"Python \\\n",
    "Can Write \\\n",
    "In This Way Too\"\n",
    "print(Value)"
   ]
  },
  {
   "cell_type": "code",
   "execution_count": 2,
   "id": "f2679468",
   "metadata": {},
   "outputs": [
    {
     "ename": "SyntaxError",
     "evalue": "invalid syntax (2538810625.py, line 2)",
     "output_type": "error",
     "traceback": [
      "\u001b[1;36m  Input \u001b[1;32mIn [2]\u001b[1;36m\u001b[0m\n\u001b[1;33m    value='It's Python Class!'\u001b[0m\n\u001b[1;37m              ^\u001b[0m\n\u001b[1;31mSyntaxError\u001b[0m\u001b[1;31m:\u001b[0m invalid syntax\n"
     ]
    }
   ],
   "source": [
    "#This line will cause error since only It is considered as string and rest of string as different lines\n",
    "value='It's Python Class!'"
   ]
  },
  {
   "cell_type": "code",
   "execution_count": 4,
   "id": "7bcb2618",
   "metadata": {},
   "outputs": [
    {
     "name": "stdout",
     "output_type": "stream",
     "text": [
      "It's Python Classes!\n"
     ]
    }
   ],
   "source": [
    "#Use Escape Sequence to  rectify the error\n",
    "value='It\\'s Python Classes!'\n",
    "print(value)"
   ]
  },
  {
   "cell_type": "code",
   "execution_count": 5,
   "id": "4de18dd6",
   "metadata": {},
   "outputs": [
    {
     "name": "stdout",
     "output_type": "stream",
     "text": [
      "It's Python Classes\n"
     ]
    }
   ],
   "source": [
    "#Using Double Quotation\n",
    "value=\"It's Python Classes\"\n",
    "print(value)"
   ]
  },
  {
   "cell_type": "code",
   "execution_count": 6,
   "id": "932f4b1f",
   "metadata": {},
   "outputs": [
    {
     "name": "stdout",
     "output_type": "stream",
     "text": [
      "Multi\n",
      "Line \n",
      "Statement\n"
     ]
    }
   ],
   "source": [
    "#Can also use three double quotations instead of single quotes\n",
    "Value='''Multi\n",
    "Line \n",
    "Statement'''\n",
    "print(Value)"
   ]
  },
  {
   "cell_type": "code",
   "execution_count": 8,
   "id": "a37b4b47",
   "metadata": {},
   "outputs": [
    {
     "name": "stdout",
     "output_type": "stream",
     "text": [
      "Multi \n",
      " Line \n",
      " Statement\n"
     ]
    }
   ],
   "source": [
    "Value = 'Multi \\n Line \\n Statement'\n",
    "print(Value)"
   ]
  },
  {
   "attachments": {},
   "cell_type": "markdown",
   "id": "90ee8872",
   "metadata": {},
   "source": [
    "<i>Refer Strings.py file in this github for more string operations such as slicing and built-in functions</i> "
   ]
  },
  {
   "attachments": {},
   "cell_type": "markdown",
   "id": "c7103275",
   "metadata": {},
   "source": [
    "#### Tuple\n",
    "Tuple is a set of comma seperated values. The number of variables and the number of values must be equal."
   ]
  },
  {
   "cell_type": "code",
   "execution_count": 2,
   "id": "5478bc95",
   "metadata": {},
   "outputs": [
    {
     "name": "stdout",
     "output_type": "stream",
     "text": [
      "1\n",
      "2\n",
      "3\n",
      "4\n"
     ]
    }
   ],
   "source": [
    "(a,b,c,d)=(1,2,3,4) #This is tuple\n",
    "print(a)\n",
    "print(b)\n",
    "print(c)\n",
    "print(d)"
   ]
  },
  {
   "attachments": {},
   "cell_type": "markdown",
   "id": "99b0e917",
   "metadata": {},
   "source": [
    "#### Swap two values using Tuple"
   ]
  },
  {
   "cell_type": "code",
   "execution_count": 3,
   "id": "02b6af84",
   "metadata": {},
   "outputs": [
    {
     "name": "stdout",
     "output_type": "stream",
     "text": [
      "Initial value of a 10\n",
      "Initial value of b 29\n",
      "Swapped Value of a 29\n",
      "Swapped value of b 10\n"
     ]
    }
   ],
   "source": [
    "a=10\n",
    "b=29\n",
    "print(\"Initial value of a\",a)\n",
    "print(\"Initial value of b\",b)\n",
    "(a,b)=(b,a)\n",
    "print(\"Swapped Value of a\",a)\n",
    "print(\"Swapped value of b\",b)\n"
   ]
  },
  {
   "attachments": {},
   "cell_type": "markdown",
   "id": "b00ea0a7",
   "metadata": {},
   "source": [
    "#### Example of Python Indentation"
   ]
  },
  {
   "cell_type": "code",
   "execution_count": 8,
   "id": "be153b38",
   "metadata": {},
   "outputs": [
    {
     "name": "stdout",
     "output_type": "stream",
     "text": [
      "1\n",
      "2\n",
      "3\n",
      "4\n",
      "5\n"
     ]
    }
   ],
   "source": [
    "for i in range(1,11):\n",
    "    print(i)\n",
    "    if i==5:\n",
    "        break"
   ]
  },
  {
   "attachments": {},
   "cell_type": "markdown",
   "id": "9a40e51b",
   "metadata": {},
   "source": [
    "#### Output Formatting"
   ]
  },
  {
   "attachments": {},
   "cell_type": "markdown",
   "id": "8a0f3155",
   "metadata": {},
   "source": [
    "<font size=\"3\">\n",
    "Syntax : print(*objects,sep='',end='\\n', file=sys.stdout, flush=False)\n",
    "    </font>"
   ]
  },
  {
   "cell_type": "code",
   "execution_count": 9,
   "id": "2e259485",
   "metadata": {},
   "outputs": [
    {
     "name": "stdout",
     "output_type": "stream",
     "text": [
      "This will be displayed on the screen\n",
      "The value of a is 5\n"
     ]
    }
   ],
   "source": [
    "print('This will be displayed on the screen')\n",
    "a=5\n",
    "print(\"The value of a is\",a)"
   ]
  },
  {
   "attachments": {},
   "cell_type": "markdown",
   "id": "6c02f70e",
   "metadata": {},
   "source": [
    "<font size=\"3\"> It is noted in the above cell that in line 3, their is space between string and the variable. \n",
    "    This is by default, as per syntax. you can see space was added between sep=' ' </font>"
   ]
  },
  {
   "attachments": {},
   "cell_type": "markdown",
   "id": "d754b5a6",
   "metadata": {},
   "source": [
    "#### Explaining the syntax\n",
    "objects are the value(s) to be printed, * is used to indicate that there may be more than one object. <br>\n",
    "<i>sep</i> seperator is used b/w values, by default is space. <br>\n",
    "After all the values are printed, the end is printed by default it is new line. <br>\n",
    "<b>file</b> is an <i>object</i> which specifies where the objects are to be printed. By default it is the screen (sys.stdout). <br>"
   ]
  },
  {
   "cell_type": "code",
   "execution_count": 13,
   "id": "a41268e0",
   "metadata": {},
   "outputs": [
    {
     "name": "stdout",
     "output_type": "stream",
     "text": [
      "1 2 3 4\n",
      "1*2*3*4\n",
      "1*2*3*4#"
     ]
    }
   ],
   "source": [
    "print(1,2,3,4)\n",
    "print(1,2,3,4,sep='*')\n",
    "print(1,2,3,4,sep='*',end='#')\n",
    "# sep can be used only for int object(s) not string\n",
    "# end can be used even in case the object is string"
   ]
  },
  {
   "attachments": {},
   "cell_type": "markdown",
   "id": "7591cc6d",
   "metadata": {},
   "source": [
    "<b>str.format() method </b> <br>\n",
    "This method is used to formatting the output to improve the clarity <br>\n",
    "Can use number (tuple index) to print the output in a specific order."
   ]
  },
  {
   "cell_type": "code",
   "execution_count": 15,
   "id": "a0fd38ae",
   "metadata": {},
   "outputs": [
    {
     "name": "stdout",
     "output_type": "stream",
     "text": [
      "The value of x is 5 and value of y is 20\n"
     ]
    }
   ],
   "source": [
    "x=5\n",
    "y=20\n",
    "print(\"The value of x is {} and value of y is {}\".format(x,y))"
   ]
  },
  {
   "cell_type": "code",
   "execution_count": 16,
   "id": "b3377e94",
   "metadata": {},
   "outputs": [
    {
     "name": "stdout",
     "output_type": "stream",
     "text": [
      "I like bun and butter\n"
     ]
    }
   ],
   "source": [
    "print(\"I like {0} and {1}\".format('bun','butter'))\n",
    "#using tupple indexing"
   ]
  },
  {
   "cell_type": "code",
   "execution_count": 17,
   "id": "16b97fa5",
   "metadata": {},
   "outputs": [
    {
     "name": "stdout",
     "output_type": "stream",
     "text": [
      "I like butter and bun\n"
     ]
    }
   ],
   "source": [
    "print('I like {1} and {0}'.format('bun','butter'))"
   ]
  },
  {
   "cell_type": "code",
   "execution_count": 18,
   "id": "703f51ec",
   "metadata": {},
   "outputs": [
    {
     "name": "stdout",
     "output_type": "stream",
     "text": [
      "Hello Python Developer,Good Morning\n"
     ]
    }
   ],
   "source": [
    "#keyword arguments can be used to format the string\n",
    "print('Hello {name},{greeting}'.format(greeting='Good Morning',name='Python Developer'))"
   ]
  },
  {
   "cell_type": "code",
   "execution_count": 21,
   "id": "f6d37a32",
   "metadata": {},
   "outputs": [
    {
     "name": "stdout",
     "output_type": "stream",
     "text": [
      "Value of X = 32.45\n",
      "Value of Y = 32.4456\n"
     ]
    }
   ],
   "source": [
    "#format string using printf in C using % operator\n",
    "x=y=32.445567 \n",
    "print(\"Value of X = %3.2f\" %x)\n",
    "print(\"Value of Y = %3.4f\" %y)"
   ]
  },
  {
   "attachments": {},
   "cell_type": "markdown",
   "id": "9c120543",
   "metadata": {},
   "source": [
    "### Formatted String Literals"
   ]
  },
  {
   "cell_type": "code",
   "execution_count": 25,
   "id": "1e0713cb",
   "metadata": {},
   "outputs": [
    {
     "name": "stdout",
     "output_type": "stream",
     "text": [
      "Hello World 1.23\n"
     ]
    }
   ],
   "source": [
    "a=1.234\n",
    "print(f'Hello World {a:.3}')\n",
    "# Passing an integer after the ':' will cause that field to be a minimum number of characters wide"
   ]
  },
  {
   "attachments": {},
   "cell_type": "markdown",
   "id": "6e8a6da8",
   "metadata": {},
   "source": [
    "#### Input function \n",
    "<p>\n",
    "<i> Syntax</i> : input([prompt]) </p>\n",
    "<p> Prompt is a string. <br> input() always returns a string on to the screen <br> </p>"
   ]
  },
  {
   "cell_type": "code",
   "execution_count": 23,
   "id": "b517a6f9",
   "metadata": {},
   "outputs": [
    {
     "name": "stdout",
     "output_type": "stream",
     "text": [
      "Enter any number2\n",
      "2\n",
      "<class 'str'>\n"
     ]
    }
   ],
   "source": [
    "a=input(\"Enter any number\")\n",
    "print(a)\n",
    "print(type(a))"
   ]
  },
  {
   "cell_type": "code",
   "execution_count": 24,
   "id": "94dd7983",
   "metadata": {},
   "outputs": [
    {
     "name": "stdout",
     "output_type": "stream",
     "text": [
      "Enter a number12\n",
      "12\n",
      "<class 'int'>\n"
     ]
    }
   ],
   "source": [
    "a=int(input(\"Enter a number\"))\n",
    "print(a)\n",
    "print(type(a))"
   ]
  },
  {
   "cell_type": "code",
   "execution_count": 26,
   "id": "0388077d",
   "metadata": {},
   "outputs": [],
   "source": [
    "#Arithmetic Operations on Strings"
   ]
  },
  {
   "cell_type": "code",
   "execution_count": 29,
   "id": "06f8ad32",
   "metadata": {},
   "outputs": [
    {
     "ename": "ValueError",
     "evalue": "invalid literal for int() with base 10: '1+2'",
     "output_type": "error",
     "traceback": [
      "\u001b[1;31m---------------------------------------------------------------------------\u001b[0m",
      "\u001b[1;31mValueError\u001b[0m                                Traceback (most recent call last)",
      "Input \u001b[1;32mIn [29]\u001b[0m, in \u001b[0;36m<cell line: 1>\u001b[1;34m()\u001b[0m\n\u001b[1;32m----> 1\u001b[0m result\u001b[38;5;241m=\u001b[39m\u001b[38;5;28;43mint\u001b[39;49m\u001b[43m(\u001b[49m\u001b[38;5;124;43m'\u001b[39;49m\u001b[38;5;124;43m1+2\u001b[39;49m\u001b[38;5;124;43m'\u001b[39;49m\u001b[43m)\u001b[49m\n",
      "\u001b[1;31mValueError\u001b[0m: invalid literal for int() with base 10: '1+2'"
     ]
    }
   ],
   "source": [
    "result=int('1+2')"
   ]
  },
  {
   "attachments": {},
   "cell_type": "markdown",
   "id": "455b1350",
   "metadata": {},
   "source": [
    "<font size=\"3\"> <b> ValueError</b>: We get such error becuase we are passing a string ' ' to an integer function. <br>\n",
    "    The value for Integer function should be a integer value only. <br> </font>"
   ]
  },
  {
   "cell_type": "code",
   "execution_count": 30,
   "id": "c53f400a",
   "metadata": {},
   "outputs": [],
   "source": [
    "result=eval('1+2')"
   ]
  },
  {
   "cell_type": "code",
   "execution_count": 31,
   "id": "886ef5b5",
   "metadata": {},
   "outputs": [
    {
     "name": "stdout",
     "output_type": "stream",
     "text": [
      "3\n"
     ]
    }
   ],
   "source": [
    "#We get the result as arthamatic even though we are passing a string is due to eval() function\n",
    "print(result)"
   ]
  },
  {
   "attachments": {},
   "cell_type": "markdown",
   "id": "f005ea91",
   "metadata": {},
   "source": [
    "#### Importing & Operators\n",
    "<font size=\"2\"> <i>Import</i></font>\n",
    "<p> We can import any module using 'import' function </p>\n",
    "<br> <b> OPERATORS </b>\n",
    "<p> 1. Arithemtic Operators <br> 2. Relational Operators <br> 3.Logical Operators <br> 4. Bitwise Operators <br> 5. Assignment Operators <br> 6.Membership Operators <br> 7. Identity Operators <br> 8. Unary Arithmetic Operators <br> </p>"
   ]
  },
  {
   "cell_type": "code",
   "execution_count": 42,
   "id": "aaa4d7e8",
   "metadata": {},
   "outputs": [
    {
     "name": "stdout",
     "output_type": "stream",
     "text": [
      "3.141592653589793\n"
     ]
    }
   ],
   "source": [
    "#METHOD 1\n",
    "import math\n",
    "print(math.pi) #printing pi value"
   ]
  },
  {
   "cell_type": "code",
   "execution_count": 43,
   "id": "bc9b515b",
   "metadata": {},
   "outputs": [
    {
     "name": "stdout",
     "output_type": "stream",
     "text": [
      "3.141592653589793\n"
     ]
    }
   ],
   "source": [
    "#METHOD 2\n",
    "from math import pi\n",
    "print(pi)"
   ]
  },
  {
   "cell_type": "code",
   "execution_count": 44,
   "id": "45dcc575",
   "metadata": {},
   "outputs": [
    {
     "name": "stdout",
     "output_type": "stream",
     "text": [
      "Enter the value of a:7\n",
      "Enter the value of b:4\n",
      "a+b = 11\n",
      "a-b= 3\n",
      "a*b= 28\n",
      "a/b= 1.75\n",
      "a//b= 1\n",
      "a%b= 3\n",
      "a**b= 2401\n"
     ]
    }
   ],
   "source": [
    "#Arithmetic Operators\n",
    "a=int(input('Enter the value of a:'))\n",
    "b=int(input('Enter the value of b:'))\n",
    "print('a+b =',a+b) #Addition\n",
    "print('a-b=',a-b) #Subtraction\n",
    "print('a*b=',a*b) #Multiplication\n",
    "print('a/b=',a/b) #Division\n",
    "print('a//b=',a//b) #Quotient\n",
    "print('a%b=',a%b) #Reminder \n",
    "print('a**b=',a**b) #Power Of\n"
   ]
  },
  {
   "cell_type": "code",
   "execution_count": 46,
   "id": "151cf72f",
   "metadata": {},
   "outputs": [
    {
     "name": "stdout",
     "output_type": "stream",
     "text": [
      "Enter the value for a :15\n",
      "Enter the value for b:16\n",
      "a>b = False\n",
      "a<b = True\n",
      "a>=b = False\n",
      "a<=b = True\n",
      "a==b = False\n",
      "a!=b = True\n"
     ]
    }
   ],
   "source": [
    "#Relational Operators\n",
    "a=int(input('Enter the value for a :'))\n",
    "b=int(input('Enter the value for b:'))\n",
    "print('a>b =',a>b)\n",
    "print('a<b =',a<b)\n",
    "print('a>=b =',a>=b)\n",
    "print('a<=b =',a<=b)\n",
    "print('a==b =',a==b)\n",
    "print('a!=b =',a!=b)"
   ]
  },
  {
   "cell_type": "code",
   "execution_count": 47,
   "id": "dd85fcd9",
   "metadata": {},
   "outputs": [
    {
     "name": "stdout",
     "output_type": "stream",
     "text": [
      "x and y is False\n",
      "x or y is True\n",
      "not x is False\n"
     ]
    }
   ],
   "source": [
    "#Logical Operators\n",
    "x=True\n",
    "y=False\n",
    "print('x and y is', x and y) #True if both operands are true\n",
    "print('x or y is',x or y) #True if either of the operands is true\n",
    "print('not x is', not x) #true if the operand is false"
   ]
  },
  {
   "cell_type": "code",
   "execution_count": 51,
   "id": "1b156fdf",
   "metadata": {},
   "outputs": [
    {
     "name": "stdout",
     "output_type": "stream",
     "text": [
      "x&y is 4\n",
      "x | y is 21\n",
      "0\n",
      "640\n"
     ]
    }
   ],
   "source": [
    "#BitWise Operators\n",
    "# Used to manipulate the logical operations bit by bit\n",
    "x=5\n",
    "y=20\n",
    "print('x&y is',x&y)\n",
    "print('x | y is',x|y)\n",
    "print(20>>5)\n",
    "print(20<<5)"
   ]
  },
  {
   "cell_type": "code",
   "execution_count": 55,
   "id": "563e66d5",
   "metadata": {},
   "outputs": [
    {
     "ename": "SyntaxError",
     "evalue": "invalid syntax (3949217784.py, line 3)",
     "output_type": "error",
     "traceback": [
      "\u001b[1;36m  Input \u001b[1;32mIn [55]\u001b[1;36m\u001b[0m\n\u001b[1;33m    print('i+=5',i+=5)\u001b[0m\n\u001b[1;37m                  ^\u001b[0m\n\u001b[1;31mSyntaxError\u001b[0m\u001b[1;31m:\u001b[0m invalid syntax\n"
     ]
    }
   ],
   "source": [
    "i = int(input('Enter any number of your choice'))\n",
    "print('i=',i)\n",
    "print('i+=5',i+=5)\n",
    "print('i-=5',i-=5)\n",
    "print('i*=5',i*=5)\n",
    "print('i/=5',i/=5)\n",
    "print('i%=5',i%=5)\n",
    "print('i//=5',i//=5)\n",
    "print('i**=5',i**5)\n",
    "print('i&=5',i&=5)\n",
    "print('i|=5',i|=5)\n",
    "print('i^=5',i^=5)\n",
    "print('i>>=2',i>>=2)\n",
    "print('i<<=2',i<<=2)"
   ]
  },
  {
   "attachments": {},
   "cell_type": "markdown",
   "id": "175f671b",
   "metadata": {},
   "source": [
    "<p> The error in the above code, use of assignment operators within print statement </p>"
   ]
  },
  {
   "cell_type": "code",
   "execution_count": 69,
   "id": "08c5f4ef",
   "metadata": {},
   "outputs": [
    {
     "name": "stdout",
     "output_type": "stream",
     "text": [
      "Enter any number of your choice2\n",
      "i= 2\n",
      "i+=5 = 7\n",
      "i-=5 = 2\n",
      "i*=5 = 10\n",
      "i/=5 = 2.0\n",
      "i%=5 = 2.0\n",
      "i//=5 = 0.0\n",
      "i**5 0.0\n"
     ]
    }
   ],
   "source": [
    "i = int(input('Enter any number of your choice'))\n",
    "print('i=',i)\n",
    "i+=5\n",
    "print('i+=5 =',i)\n",
    "i-=5\n",
    "print('i-=5 =',i)\n",
    "i*=5\n",
    "print('i*=5 =',i)\n",
    "i/=5\n",
    "print('i/=5 =',i)\n",
    "i%=5\n",
    "print('i%=5 =',i)\n",
    "i//=5\n",
    "print('i//=5 =',i)\n",
    "i**=5\n",
    "print('i**5',i)\n",
    "\n"
   ]
  },
  {
   "attachments": {},
   "cell_type": "markdown",
   "id": "12ea0dbd",
   "metadata": {},
   "source": [
    "#### Membership Operators\n",
    "in : True if x(value/variable) is found in the sequence y <br>\n",
    "not in : True if x(Value/variable) is not found in the sequence y"
   ]
  },
  {
   "cell_type": "code",
   "execution_count": 72,
   "id": "2c9e8494",
   "metadata": {},
   "outputs": [
    {
     "name": "stdout",
     "output_type": "stream",
     "text": [
      "True\n",
      "False\n",
      "True\n",
      "False\n",
      "True\n",
      "True\n"
     ]
    }
   ],
   "source": [
    "x='Python Programming'\n",
    "y = [1,2,3,4,5]\n",
    "print('y' in x)\n",
    "print('P' not in x)\n",
    "print('P' in x)\n",
    "print('pro' in x)\n",
    "print(2 in y)\n",
    "print(9 not in y)"
   ]
  },
  {
   "attachments": {},
   "cell_type": "markdown",
   "id": "d9d22302",
   "metadata": {},
   "source": [
    "#### Identity Operators\n",
    "<p> is : True if the operands x and y are identical <br>\n",
    "    is not : True if the operands x and y aren't identical </p>"
   ]
  },
  {
   "cell_type": "code",
   "execution_count": 73,
   "id": "3d61f969",
   "metadata": {},
   "outputs": [
    {
     "name": "stdout",
     "output_type": "stream",
     "text": [
      "True\n",
      "False\n",
      "False\n"
     ]
    }
   ],
   "source": [
    "x1=10\n",
    "y1=10\n",
    "x2='Python'\n",
    "y2='python'\n",
    "print(x1 is y1)\n",
    "print(x1 is not y1)\n",
    "print(x2 is y2) #Case Sensitive, string comprasion"
   ]
  },
  {
   "attachments": {},
   "cell_type": "markdown",
   "id": "1c37da50",
   "metadata": {},
   "source": [
    "#### Unary Operators\n",
    "<p> +  returns the numeric argument without any change <br>\n",
    "-  returns the numeric argument with the sign changed </p>"
   ]
  },
  {
   "cell_type": "code",
   "execution_count": 74,
   "id": "df1fc675",
   "metadata": {},
   "outputs": [
    {
     "name": "stdout",
     "output_type": "stream",
     "text": [
      "10\n",
      "-10\n"
     ]
    }
   ],
   "source": [
    "a=10\n",
    "print(a)\n",
    "c=-a\n",
    "print(c)"
   ]
  },
  {
   "attachments": {},
   "cell_type": "markdown",
   "id": "468c5040",
   "metadata": {},
   "source": [
    "#### Precedence Of Operators\n",
    "<p> Parentheses have highest precedence <br>\n",
    "    Exponentiation has the next highest precedence <br>\n",
    "    Multiplication, Division, Remindar Division, Quotient Division have the same precedence, which is higher than Addition and Subtraction which have same precedence <br>\n",
    "Operators with same precedence follow associativity rule</p>"
   ]
  },
  {
   "cell_type": "code",
   "execution_count": 75,
   "id": "5a3466f4",
   "metadata": {},
   "outputs": [
    {
     "name": "stdout",
     "output_type": "stream",
     "text": [
      "Value of(a+b)*c/d is 90.0\n",
      "Value of ((a+b)*c)/d is 90.0\n",
      "Value of (a+b)*(c/d) is 90.0\n",
      "Value of a+(b*c)/d is 50.0\n",
      "Value of d**2**3 is 390625\n"
     ]
    }
   ],
   "source": [
    "a=20\n",
    "b=10\n",
    "c=15\n",
    "d=5\n",
    "e=0\n",
    "e=(a+b)*c/d\n",
    "print('Value of(a+b)*c/d is',e)\n",
    "e=((a+b)*c)/d\n",
    "print('Value of ((a+b)*c)/d is',e)\n",
    "e=(a+b)*(c/d)\n",
    "print('Value of (a+b)*(c/d) is',e)\n",
    "e=a+(b*c)/d\n",
    "print('Value of a+(b*c)/d is',e)\n",
    "e=d**2**3\n",
    "print('Value of d**2**3 is',e)"
   ]
  },
  {
   "cell_type": "code",
   "execution_count": 80,
   "id": "331c36c1",
   "metadata": {},
   "outputs": [],
   "source": [
    "#My Own Module\n",
    "import fibo"
   ]
  },
  {
   "cell_type": "code",
   "execution_count": 82,
   "id": "a3f9cdc7",
   "metadata": {},
   "outputs": [
    {
     "data": {
      "text/plain": [
       "[1, 1, 2, 3, 5, 8, 13, 21, 34, 55, 89]"
      ]
     },
     "execution_count": 82,
     "metadata": {},
     "output_type": "execute_result"
    }
   ],
   "source": [
    "fibo.fib2(100)"
   ]
  },
  {
   "cell_type": "code",
   "execution_count": 86,
   "id": "dd58c510",
   "metadata": {},
   "outputs": [
    {
     "ename": "AttributeError",
     "evalue": "module 'fibo' has no attribute '_name_'",
     "output_type": "error",
     "traceback": [
      "\u001b[1;31m---------------------------------------------------------------------------\u001b[0m",
      "\u001b[1;31mAttributeError\u001b[0m                            Traceback (most recent call last)",
      "Input \u001b[1;32mIn [86]\u001b[0m, in \u001b[0;36m<cell line: 1>\u001b[1;34m()\u001b[0m\n\u001b[1;32m----> 1\u001b[0m \u001b[43mfibo\u001b[49m\u001b[38;5;241;43m.\u001b[39;49m\u001b[43m_name_\u001b[49m\n",
      "\u001b[1;31mAttributeError\u001b[0m: module 'fibo' has no attribute '_name_'"
     ]
    }
   ],
   "source": [
    "fibo._name_\n"
   ]
  },
  {
   "attachments": {},
   "cell_type": "markdown",
   "id": "65c59cf9",
   "metadata": {},
   "source": [
    "#### User-Defined Function\n",
    "<i>Syntax</i>: def function_name(parameters):<br>\n",
    "                    \"\"\"docstring\"\"\" <br>\n",
    "                   statements <br>\n",
    "                   return #optional <br>"
   ]
  },
  {
   "cell_type": "code",
   "execution_count": 97,
   "id": "66b351d9",
   "metadata": {},
   "outputs": [],
   "source": [
    "def greet(name):\n",
    "    \"\"\"This function greets the person whose name is passed in as parameter\"\"\"\n",
    "    print(\"Hello \"+name+\", Good Morning\")"
   ]
  },
  {
   "cell_type": "code",
   "execution_count": 98,
   "id": "6f13a37c",
   "metadata": {},
   "outputs": [
    {
     "name": "stdout",
     "output_type": "stream",
     "text": [
      "Hello Me, Good Morning\n"
     ]
    }
   ],
   "source": [
    "greet('Me')"
   ]
  },
  {
   "cell_type": "code",
   "execution_count": 101,
   "id": "37d19f6b",
   "metadata": {},
   "outputs": [],
   "source": [
    "def mul(a,b):\n",
    "    return(a*b);\n",
    "def sub(a,b):\n",
    "    return(a-b)\n",
    "def calculate():\n",
    "    a=int(input(\"Enter the first number:\"))\n",
    "    b=int(input(\"Enter the second number\"))\n",
    "    result=mul(a,b)\n",
    "    print(result)\n",
    "    result=sub(a,b)\n",
    "    print(result)"
   ]
  },
  {
   "cell_type": "code",
   "execution_count": 102,
   "id": "8ce3688b",
   "metadata": {},
   "outputs": [
    {
     "name": "stdout",
     "output_type": "stream",
     "text": [
      "Enter the first number:12\n",
      "Enter the second number10\n",
      "120\n",
      "2\n"
     ]
    }
   ],
   "source": [
    "calculate()"
   ]
  },
  {
   "attachments": {},
   "cell_type": "markdown",
   "id": "7faa954b",
   "metadata": {},
   "source": [
    "#### Type Conversion Functions\n",
    "<p> <i> int() </i>: Convert a string or float into integer. <br>\n",
    "    <i> float() </i>: Convert a string or integer into float. <br>\n",
    "    <i>str()</i>: Convert a int,float,tuple or dicitionary into string <br>\n",
    "    <i>list()</i>: Convert a string, tuple or dictionary into list <br>\n",
    "    <i>tuple()</i>: Convert list into tuple <br>"
   ]
  },
  {
   "attachments": {},
   "cell_type": "markdown",
   "id": "54a3a728",
   "metadata": {},
   "source": [
    "#### Math Functions\n",
    "<p>\n",
    "    <i>abs(n)</i>: Returns absolute value of number n <br>\n",
    "    <i>round(n,d)</i>: Returns a number (n) to a number of decimal points (d) <br>\n",
    "    <i>floor(n)</i>: Rounds down to nearest integer <br>\n",
    "    <i>ceil(n)</i>: Rounds up to nearest integer <br>\n",
    "    <i>pow(n,d)</i>: Returns n to the power of d <br>\n",
    "    <i>sqrt(n)</i>:Returns the square root of number n <br>\n",
    "    <i>factorial(n)</i>: Returns factorial value of n <br>\n",
    "    <i>gcd(n,m)</i>: Returns the greatest common divisor <br>\n",
    "    <i>trunc(x)</i>: Returns the integer value of x and truncates the fraction <br>\n",
    "    </p>"
   ]
  },
  {
   "cell_type": "code",
   "execution_count": 7,
   "id": "8fd4f414",
   "metadata": {},
   "outputs": [],
   "source": [
    "import math\n",
    "def cal1(n):\n",
    "    return (round(n,abs(-2)))\n",
    "def cal2(n):\n",
    "    return(math.floor(n))\n",
    "def cal3(n):\n",
    "    return(math.sqrt(n))\n",
    "def cal4(n):\n",
    "    return(math.factorial(n))"
   ]
  },
  {
   "cell_type": "code",
   "execution_count": 8,
   "id": "9dd1e91d",
   "metadata": {},
   "outputs": [
    {
     "name": "stdout",
     "output_type": "stream",
     "text": [
      "Enter any number between 1-9945.2145\n",
      "Rounded Number: 45.21\n",
      "Rounded down integer: 45\n",
      "Square Root Number: 6.724172811580619\n"
     ]
    },
    {
     "name": "stderr",
     "output_type": "stream",
     "text": [
      "C:\\Users\\G.J.Rahul\\AppData\\Local\\Temp\\ipykernel_4044\\2612081181.py:9: DeprecationWarning: Using factorial() with floats is deprecated\n",
      "  return(math.factorial(n))\n"
     ]
    },
    {
     "ename": "ValueError",
     "evalue": "factorial() only accepts integral values",
     "output_type": "error",
     "traceback": [
      "\u001b[1;31m---------------------------------------------------------------------------\u001b[0m",
      "\u001b[1;31mValueError\u001b[0m                                Traceback (most recent call last)",
      "Input \u001b[1;32mIn [8]\u001b[0m, in \u001b[0;36m<cell line: 5>\u001b[1;34m()\u001b[0m\n\u001b[0;32m      3\u001b[0m \u001b[38;5;28mprint\u001b[39m(\u001b[38;5;124m\"\u001b[39m\u001b[38;5;124mRounded down integer:\u001b[39m\u001b[38;5;124m\"\u001b[39m,cal2(num))\n\u001b[0;32m      4\u001b[0m \u001b[38;5;28mprint\u001b[39m(\u001b[38;5;124m\"\u001b[39m\u001b[38;5;124mSquare Root Number:\u001b[39m\u001b[38;5;124m\"\u001b[39m,cal3(num))\n\u001b[1;32m----> 5\u001b[0m \u001b[38;5;28mprint\u001b[39m(\u001b[38;5;124m\"\u001b[39m\u001b[38;5;124mFactorial:\u001b[39m\u001b[38;5;124m\"\u001b[39m,\u001b[43mcal4\u001b[49m\u001b[43m(\u001b[49m\u001b[43mnum\u001b[49m\u001b[43m)\u001b[49m)\n",
      "Input \u001b[1;32mIn [7]\u001b[0m, in \u001b[0;36mcal4\u001b[1;34m(n)\u001b[0m\n\u001b[0;32m      8\u001b[0m \u001b[38;5;28;01mdef\u001b[39;00m \u001b[38;5;21mcal4\u001b[39m(n):\n\u001b[1;32m----> 9\u001b[0m     \u001b[38;5;28;01mreturn\u001b[39;00m(\u001b[43mmath\u001b[49m\u001b[38;5;241;43m.\u001b[39;49m\u001b[43mfactorial\u001b[49m\u001b[43m(\u001b[49m\u001b[43mn\u001b[49m\u001b[43m)\u001b[49m)\n",
      "\u001b[1;31mValueError\u001b[0m: factorial() only accepts integral values"
     ]
    }
   ],
   "source": [
    "num=float(input(\"Enter any number between 1-99 with decimals\"))\n",
    "print(\"Rounded Number:\",cal1(num))\n",
    "print(\"Rounded down integer:\",cal2(num))\n",
    "print(\"Square Root Number:\",cal3(num))\n",
    "print(\"Factorial:\",cal4(num))"
   ]
  },
  {
   "attachments": {},
   "cell_type": "markdown",
   "id": "b39acc73",
   "metadata": {},
   "source": [
    "#### The Factorial function works only for integral values\n",
    "<p> Since, we are sending the 'value with decimals' through the function. </p>"
   ]
  },
  {
   "attachments": {},
   "cell_type": "markdown",
   "id": "959b4492",
   "metadata": {},
   "source": [
    "#### SOLUTION\n",
    "<p> Now, we are converting factorial input to int <br>\n",
    "    There is another way to solve the <b>ValueError</b>: we can convert the value to int while calling the function<br>\n",
    "    </p>"
   ]
  },
  {
   "cell_type": "code",
   "execution_count": 13,
   "id": "6ab33052",
   "metadata": {},
   "outputs": [
    {
     "name": "stdout",
     "output_type": "stream",
     "text": [
      "Enter any number between 1-99 with decimals 5.245\n",
      "Rounded Number: 5.25\n",
      "Rounded down integer: 5\n",
      "Square Root Number: 2.2901964981197573\n",
      "Factorial: 120\n"
     ]
    }
   ],
   "source": [
    "import math\n",
    "def cal1(n):\n",
    "    return (round(n,abs(-2)))\n",
    "def cal2(n):\n",
    "    return(math.floor(n))\n",
    "def cal3(n):\n",
    "    return(math.sqrt(n))\n",
    "def cal4(n):\n",
    "    return(math.factorial(int(n)))\n",
    "\n",
    "num=float(input(\"Enter any number between 1-99 with decimals \"))\n",
    "print(\"Rounded Number:\",cal1(num))\n",
    "print(\"Rounded down integer:\",cal2(num))\n",
    "print(\"Square Root Number:\",cal3(num))\n",
    "print(\"Factorial:\",cal4(num))"
   ]
  },
  {
   "cell_type": "code",
   "execution_count": 2,
   "id": "b7d82712",
   "metadata": {},
   "outputs": [],
   "source": [
    "#defining a function to print value twice\n",
    "def print_twice(num):\n",
    "    print(num)\n",
    "    print(num)"
   ]
  },
  {
   "cell_type": "code",
   "execution_count": 3,
   "id": "0c8196da",
   "metadata": {},
   "outputs": [
    {
     "name": "stdout",
     "output_type": "stream",
     "text": [
      "20\n",
      "20\n"
     ]
    }
   ],
   "source": [
    "#Function Call 1\n",
    "print_twice(20)"
   ]
  },
  {
   "attachments": {},
   "cell_type": "markdown",
   "id": "fa67d5ff",
   "metadata": {},
   "source": [
    "<p> <b>Note:</b> User can use any kind of expression as argument for print statement </p>"
   ]
  },
  {
   "cell_type": "code",
   "execution_count": 5,
   "id": "f2d67af4",
   "metadata": {},
   "outputs": [
    {
     "name": "stdout",
     "output_type": "stream",
     "text": [
      "Hello Hello \n",
      "Hello Hello \n"
     ]
    }
   ],
   "source": [
    "#Function Call 2\n",
    "print_twice('Hello ' * 2)"
   ]
  },
  {
   "cell_type": "code",
   "execution_count": 6,
   "id": "53dccef5",
   "metadata": {},
   "outputs": [
    {
     "name": "stdout",
     "output_type": "stream",
     "text": [
      "-0.9117339147869651\n",
      "-0.9117339147869651\n"
     ]
    }
   ],
   "source": [
    "#Function Call 3\n",
    "import math\n",
    "print_twice(math.cos(math.e))"
   ]
  },
  {
   "cell_type": "code",
   "execution_count": 7,
   "id": "095dd57b",
   "metadata": {},
   "outputs": [
    {
     "name": "stdout",
     "output_type": "stream",
     "text": [
      "Value of e : 2.718281828459045\n"
     ]
    }
   ],
   "source": [
    "print('Value of e :',math.e)"
   ]
  },
  {
   "attachments": {},
   "cell_type": "markdown",
   "id": "ad6c00d5",
   "metadata": {},
   "source": [
    "<p><b>Note :</b> <i>None</i> is a special value and it has it's own type </p>"
   ]
  },
  {
   "cell_type": "code",
   "execution_count": 8,
   "id": "aa9aec6d",
   "metadata": {},
   "outputs": [
    {
     "name": "stdout",
     "output_type": "stream",
     "text": [
      "<class 'NoneType'>\n"
     ]
    }
   ],
   "source": [
    "print(type(None))"
   ]
  },
  {
   "attachments": {},
   "cell_type": "markdown",
   "id": "86b9ab61",
   "metadata": {},
   "source": [
    "### Illustrative Programs"
   ]
  },
  {
   "attachments": {},
   "cell_type": "markdown",
   "id": "c42d496e",
   "metadata": {},
   "source": [
    "<p>1. Write a Python Program to exchange the value of two variables without using user-defined function </p>"
   ]
  },
  {
   "cell_type": "code",
   "execution_count": 10,
   "id": "72bcdb63",
   "metadata": {},
   "outputs": [
    {
     "name": "stdout",
     "output_type": "stream",
     "text": [
      "Enter any integer value for a 12\n",
      "Enter any integer value for b 11\n",
      "Value of a: 12\n",
      "Value of b: 11\n",
      "After Swapping\n",
      "Value of a: 11\n",
      "Value of b: 12\n"
     ]
    }
   ],
   "source": [
    "a=int(input('Enter any integer value for a '))\n",
    "b=int(input('Enter any integer value for b '))\n",
    "print('Value of a:',a)\n",
    "print('Value of b:',b)\n",
    "print('After Swapping')\n",
    "temp,a,b=a,b,temp\n",
    "#b=temp\n",
    "print('Value of a:',a)\n",
    "print('Value of b:',b)"
   ]
  },
  {
   "attachments": {},
   "cell_type": "markdown",
   "id": "7e7cb80d",
   "metadata": {},
   "source": [
    "<p>2. Write a Python Program to find the distance between points </p>"
   ]
  },
  {
   "cell_type": "code",
   "execution_count": 11,
   "id": "969f04c8",
   "metadata": {},
   "outputs": [
    {
     "name": "stdout",
     "output_type": "stream",
     "text": [
      "Enter the value for x1: 12\n",
      "Enter the value for x2: 13\n",
      "Enter the value for y1: 14\n",
      "Enter the value for y2: 15\n",
      "Distance between two points:2\n"
     ]
    }
   ],
   "source": [
    "import math\n",
    "x1=int(input('Enter the value for x1: '))\n",
    "x2=int(input('Enter the value for x2: '))\n",
    "y1=int(input('Enter the value for y1: '))\n",
    "y2=int(input('Enter the value for y2: '))\n",
    "distance=math.sqrt(((x1-y1)**2)+((x2-y2)**2))\n",
    "print('Distance between two points:%d'%distance)"
   ]
  },
  {
   "attachments": {},
   "cell_type": "markdown",
   "id": "db1b687a",
   "metadata": {},
   "source": [
    "<p>3. Print the following as output: <br>\n",
    "     1 <br>\n",
    "     1 2 <br>\n",
    "     1 2 3 <br>\n",
    "     1 2 3 4 <br>\n",
    "     1 2 3 4 5 <br>\n",
    "    By taking value from the user </p>"
   ]
  },
  {
   "cell_type": "code",
   "execution_count": 14,
   "id": "3830e97f",
   "metadata": {},
   "outputs": [
    {
     "name": "stdout",
     "output_type": "stream",
     "text": [
      "Enter any number for the Python Pattern 5\n",
      " 1\n",
      " 1 2\n",
      " 1 2 3\n",
      " 1 2 3 4\n",
      " 1 2 3 4 5\n"
     ]
    }
   ],
   "source": [
    "num = int(input('Enter any number for the Python Pattern '))\n",
    "for i in range(1,num+1):\n",
    "    for j in range (1,i+1):\n",
    "        print(\"\",j,end='')\n",
    "    print()"
   ]
  },
  {
   "attachments": {},
   "cell_type": "markdown",
   "id": "c8afe0dd",
   "metadata": {},
   "source": [
    "<p>4. Print the following as output: <br>\n",
    "     1 <br>\n",
    "     2 2 <br>\n",
    "     3 3 3 <br>\n",
    "     4 4 4 4 <br>\n",
    "     5 5 5 5 5 <br>\n",
    "    By taking value from the user </p>"
   ]
  },
  {
   "cell_type": "code",
   "execution_count": 16,
   "id": "e8af00ae",
   "metadata": {},
   "outputs": [
    {
     "name": "stdout",
     "output_type": "stream",
     "text": [
      "Enter any number for the Python Pattern 5\n",
      " 1\n",
      " 2 2\n",
      " 3 3 3\n",
      " 4 4 4 4\n",
      " 5 5 5 5 5\n"
     ]
    }
   ],
   "source": [
    "num=int(input('Enter any number for the Python Pattern '))\n",
    "for i in range(1,num+1):\n",
    "    for j in range(1,i+1):\n",
    "        print(\"\",i,end='')\n",
    "    print()"
   ]
  },
  {
   "attachments": {},
   "cell_type": "markdown",
   "id": "363d2523",
   "metadata": {},
   "source": [
    "<p>5. Write a program that calculates the area of a circle with a radius = 10. \n",
    "<br>Use an approximate value of pi: pi = 3.14 <br> <br>\n",
    "    Print the result to the console as shown below.\n",
    "                                      <br> <b>Expected result:</b> <br>\n",
    "                                        Area: 314.0\n",
    "    </p>\n",
    "\n"
   ]
  },
  {
   "cell_type": "code",
   "execution_count": 17,
   "id": "08bfd662",
   "metadata": {},
   "outputs": [
    {
     "name": "stdout",
     "output_type": "stream",
     "text": [
      "Area: 314.0\n"
     ]
    }
   ],
   "source": [
    "from math import pi\n",
    "short_pi=round(pi,2)\n",
    "result=short_pi*10**2\n",
    "print(\"Area:\",result)"
   ]
  },
  {
   "attachments": {},
   "cell_type": "markdown",
   "id": "521d46bd",
   "metadata": {},
   "source": [
    "6. The geometric sequence is given with the following formula:\n",
    "\n",
    "a = 8 * 2^n-1\n",
    "\n",
    "Calculate the sum of the first six elements of this sequence. Print the result to the console as shown below.\n",
    "The sum of the first 6 elements of the sequence is: 504.0"
   ]
  },
  {
   "cell_type": "code",
   "execution_count": 1,
   "id": "bccd9549",
   "metadata": {},
   "outputs": [
    {
     "name": "stdout",
     "output_type": "stream",
     "text": [
      "The sum of the first 6 elements of the sequence is: 504.0\n"
     ]
    }
   ],
   "source": [
    "def sequence(n):\n",
    "    sum=0\n",
    "    a=(8)*(2**n-1)\n",
    "    sum=sum+a\n",
    "    print(\"The sum of the first 6 elements of the sequence is:\",float(sum))\n",
    "    \n",
    "sequence(6);"
   ]
  },
  {
   "attachments": {},
   "cell_type": "markdown",
   "id": "0e9b2c56",
   "metadata": {},
   "source": [
    "7.The arithmetic sequence is given with the following formula:\n",
    "\n",
    "a=10+4n\n",
    "Calculate the sum of the first ten elements of this sequence. Print the result to the console as shown below.\n",
    "\n",
    "<b> Expected result:  </b>\n",
    "The sum of the first 10 elements in a sequence: 320.0"
   ]
  },
  {
   "cell_type": "code",
   "execution_count": 2,
   "id": "18959db2",
   "metadata": {},
   "outputs": [
    {
     "name": "stdout",
     "output_type": "stream",
     "text": [
      "The sum of the first 10 elements in a sequence: 320.0\n"
     ]
    }
   ],
   "source": [
    "def calc():\n",
    "    sum=0\n",
    "    for i in range(1,10+1):\n",
    "        a=10+4*i\n",
    "        sum+=a\n",
    "    print(\"The sum of the first 10 elements in a sequence:\",float(sum))\n",
    "    \n",
    "calc();"
   ]
  }
 ],
 "metadata": {
  "kernelspec": {
   "display_name": "Python 3 (ipykernel)",
   "language": "python",
   "name": "python3"
  },
  "language_info": {
   "codemirror_mode": {
    "name": "ipython",
    "version": 3
   },
   "file_extension": ".py",
   "mimetype": "text/x-python",
   "name": "python",
   "nbconvert_exporter": "python",
   "pygments_lexer": "ipython3",
   "version": "3.10.6"
  }
 },
 "nbformat": 4,
 "nbformat_minor": 5
}
