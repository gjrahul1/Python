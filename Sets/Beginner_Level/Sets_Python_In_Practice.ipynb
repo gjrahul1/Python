{
 "cells": [
  {
   "cell_type": "markdown",
   "id": "f19a6989",
   "metadata": {},
   "source": [
    "### Sets"
   ]
  },
  {
   "cell_type": "markdown",
   "id": "ae244f37",
   "metadata": {},
   "source": [
    "1. Sets have unique set of values\n",
    "2. Doesn't accept repeatitive values\n",
    "3. Cannot concatinate two sets\n",
    "4. Sets doesn't follow indexing"
   ]
  },
  {
   "cell_type": "code",
   "execution_count": 1,
   "id": "798aba81",
   "metadata": {},
   "outputs": [
    {
     "name": "stdout",
     "output_type": "stream",
     "text": [
      "{1, 2, 3, 4}\n",
      "{'o', 'y', 'h', 'n', 'p', 't'}\n"
     ]
    }
   ],
   "source": [
    "#Homogeneous Elements\n",
    "st={1,2,3,4}\n",
    "print(st)\n",
    "stt={'p','y','t','h','o','o','n'}\n",
    "print(stt)"
   ]
  },
  {
   "cell_type": "code",
   "execution_count": 2,
   "id": "4403ae01",
   "metadata": {},
   "outputs": [
    {
     "name": "stdout",
     "output_type": "stream",
     "text": [
      "{1, 2, 3, 'python'}\n"
     ]
    }
   ],
   "source": [
    "#Heterogeneous Elements\n",
    "st={1,2,3,'python'}\n",
    "print(st)"
   ]
  },
  {
   "cell_type": "markdown",
   "id": "72216cbd",
   "metadata": {},
   "source": [
    "#### Error Statements"
   ]
  },
  {
   "cell_type": "markdown",
   "id": "3a5eeb00",
   "metadata": {},
   "source": [
    "1. Cannot change the value of the set, due to it's non-indexing nature"
   ]
  },
  {
   "cell_type": "code",
   "execution_count": 3,
   "id": "4b70daa3",
   "metadata": {},
   "outputs": [
    {
     "ename": "TypeError",
     "evalue": "'set' object does not support item assignment",
     "output_type": "error",
     "traceback": [
      "\u001b[1;31m---------------------------------------------------------------------------\u001b[0m",
      "\u001b[1;31mTypeError\u001b[0m                                 Traceback (most recent call last)",
      "Input \u001b[1;32mIn [3]\u001b[0m, in \u001b[0;36m<cell line: 1>\u001b[1;34m()\u001b[0m\n\u001b[1;32m----> 1\u001b[0m st[\u001b[38;5;241m0\u001b[39m]\u001b[38;5;241m=\u001b[39m\u001b[38;5;241m5\u001b[39m\n",
      "\u001b[1;31mTypeError\u001b[0m: 'set' object does not support item assignment"
     ]
    }
   ],
   "source": [
    "st[0]=5"
   ]
  },
  {
   "cell_type": "markdown",
   "id": "058e3868",
   "metadata": {},
   "source": [
    "2. Cannot perform logical operations & concatination of sets"
   ]
  },
  {
   "cell_type": "code",
   "execution_count": 4,
   "id": "12aec9aa",
   "metadata": {},
   "outputs": [
    {
     "ename": "TypeError",
     "evalue": "unsupported operand type(s) for +: 'set' and 'set'",
     "output_type": "error",
     "traceback": [
      "\u001b[1;31m---------------------------------------------------------------------------\u001b[0m",
      "\u001b[1;31mTypeError\u001b[0m                                 Traceback (most recent call last)",
      "Input \u001b[1;32mIn [4]\u001b[0m, in \u001b[0;36m<cell line: 1>\u001b[1;34m()\u001b[0m\n\u001b[1;32m----> 1\u001b[0m st1\u001b[38;5;241m=\u001b[39m{\u001b[43mst\u001b[49m\u001b[38;5;241;43m+\u001b[39;49m\u001b[43mstt\u001b[49m}\n\u001b[0;32m      2\u001b[0m \u001b[38;5;28mprint\u001b[39m(st1)\n",
      "\u001b[1;31mTypeError\u001b[0m: unsupported operand type(s) for +: 'set' and 'set'"
     ]
    }
   ],
   "source": [
    "st1={st+stt}\n",
    "print(st1)"
   ]
  },
  {
   "cell_type": "code",
   "execution_count": null,
   "id": "d1e0af95",
   "metadata": {},
   "outputs": [],
   "source": [
    "#Practice Problem\n",
    "# Make sure to print the LIST after removing the duplicates in it\n",
    "lst = [ 0, 12, 3 ,4 ,12, 4, 12, 34, 12, 33, 7, 8 , 2, 90, 23, 45, 12, 33]\n",
    "st=set(lst)\n",
    "l=list(st)\n",
    "print(l)"
   ]
  },
  {
   "cell_type": "markdown",
   "id": "3753bd98",
   "metadata": {},
   "source": [
    "#### Set Functions"
   ]
  },
  {
   "cell_type": "code",
   "execution_count": 6,
   "id": "ae5ee846",
   "metadata": {},
   "outputs": [
    {
     "name": "stdout",
     "output_type": "stream",
     "text": [
      "{1, 2, 3, 7}\n",
      "{4, 5, 6}\n"
     ]
    }
   ],
   "source": [
    "#Add function add the element to the set\n",
    "st1,st2={1,2,3},{4,5,6}\n",
    "st1.add(7)\n",
    "print(st1)\n",
    "print(st2)"
   ]
  },
  {
   "cell_type": "code",
   "execution_count": 3,
   "id": "3be3b8c4",
   "metadata": {},
   "outputs": [
    {
     "name": "stdout",
     "output_type": "stream",
     "text": [
      "{1, 3, 7}\n"
     ]
    }
   ],
   "source": [
    "#remove function removes the element from the set\n",
    "st1.remove(2)\n",
    "print(st1)"
   ]
  },
  {
   "cell_type": "code",
   "execution_count": 4,
   "id": "a263d3a1",
   "metadata": {},
   "outputs": [
    {
     "name": "stdout",
     "output_type": "stream",
     "text": [
      "{1, 3, 7}\n"
     ]
    }
   ],
   "source": [
    "#discard function removes the element from the set, but doesn't raise error if the element is not present.\n",
    "#remove function raises error, if element is not present in the set\n",
    "st1.discard(2)\n",
    "print(st1)"
   ]
  },
  {
   "cell_type": "code",
   "execution_count": 8,
   "id": "d721bed0",
   "metadata": {},
   "outputs": [
    {
     "name": "stdout",
     "output_type": "stream",
     "text": [
      "{1, 2, 3, 4, 5, 6, 7}\n"
     ]
    }
   ],
   "source": [
    "#Concatination of the sets can be performed using update function\n",
    "#st1=st1.update(st2)\n",
    "st1.update(st2)\n",
    "print(st1)"
   ]
  },
  {
   "cell_type": "code",
   "execution_count": 9,
   "id": "05714be2",
   "metadata": {},
   "outputs": [],
   "source": [
    "#clears the set\n",
    "st1.clear()\n",
    "print(st1)"
   ]
  },
  {
   "cell_type": "code",
   "execution_count": 10,
   "id": "71b716c5",
   "metadata": {},
   "outputs": [
    {
     "name": "stdout",
     "output_type": "stream",
     "text": [
      "{4, 5, 6}\n"
     ]
    }
   ],
   "source": [
    "st1.update(st2)\n",
    "print(st1)"
   ]
  },
  {
   "cell_type": "markdown",
   "id": "d88f3669",
   "metadata": {},
   "source": [
    "#### Practice Question\n",
    "##### Perform the following operations on the st set :\n",
    "\n",
    "st = { 1, 2, 4, 6, 8, 9, 12, 16, 15}\n",
    "Remove the all the odd numbers from the set\n",
    "\n",
    "Add the even numbers needed in the set to make it a set of all even numbers less than 20 (except 20)\n",
    "\n",
    "Print the set"
   ]
  },
  {
   "cell_type": "code",
   "execution_count": null,
   "id": "32da60b9",
   "metadata": {},
   "outputs": [],
   "source": [
    "st = { 1, 2, 4, 6, 8, 9, 12, 16, 15}\n",
    "st.clear()\n",
    "for i in range(2,19,2):\n",
    "    st.add(i)\n",
    "print(st)"
   ]
  },
  {
   "cell_type": "markdown",
   "id": "f802a49a",
   "metadata": {},
   "source": [
    "#### Mathematical Operations On Sets"
   ]
  },
  {
   "cell_type": "code",
   "execution_count": 11,
   "id": "ae5a1d5d",
   "metadata": {},
   "outputs": [],
   "source": [
    "st1,st2={1,5,8,9},{1,3,6,8}\n"
   ]
  },
  {
   "cell_type": "markdown",
   "id": "97784ac6",
   "metadata": {},
   "source": [
    "#### Union\n",
    "Union are joined into new set, they are usually sorted"
   ]
  },
  {
   "cell_type": "code",
   "execution_count": 12,
   "id": "7b130a50",
   "metadata": {},
   "outputs": [
    {
     "name": "stdout",
     "output_type": "stream",
     "text": [
      "{1, 3, 5, 6, 8, 9}\n"
     ]
    }
   ],
   "source": [
    "#Union : Union in a set are joined together into a new set\n",
    "print(st1 | st2)"
   ]
  },
  {
   "cell_type": "markdown",
   "id": "d4d2b26f",
   "metadata": {},
   "source": [
    "#### Intersection\n",
    "Similar elements in both the sets"
   ]
  },
  {
   "cell_type": "code",
   "execution_count": 13,
   "id": "2fd6955c",
   "metadata": {},
   "outputs": [
    {
     "name": "stdout",
     "output_type": "stream",
     "text": [
      "{8, 1}\n"
     ]
    }
   ],
   "source": [
    "#Intersection\n",
    "print(st1 & st2)"
   ]
  },
  {
   "cell_type": "markdown",
   "id": "93010c50",
   "metadata": {},
   "source": [
    "#### Difference\n",
    "[Set1 - Set2] : Set 1 elements that are not present (unique elements of set 1) in Set 2 <br>\n",
    "[Set 2 - Set 1]  : Set 2 elements that are not present (unique elements of set 2) in Set 1"
   ]
  },
  {
   "cell_type": "code",
   "execution_count": 16,
   "id": "7e469d80",
   "metadata": {},
   "outputs": [
    {
     "name": "stdout",
     "output_type": "stream",
     "text": [
      "[Set 1 - Set 2]\n",
      "{9, 5}\n",
      "[Set 2 - Set 1]\n",
      "{3, 6}\n"
     ]
    }
   ],
   "source": [
    "#Difference\n",
    "print(\"[Set 1 - Set 2]\")\n",
    "print(st1-st2)\n",
    "print(\"[Set 2 - Set 1]\")\n",
    "print(st2-st1)"
   ]
  },
  {
   "cell_type": "markdown",
   "id": "3b5d12f4",
   "metadata": {},
   "source": [
    "#### Symmetric Difference\n",
    "The set2 elements are not present in set1 and set1 elements that are not present in set2 <br>\n",
    "(^) is used to represent symmetric difference"
   ]
  },
  {
   "cell_type": "code",
   "execution_count": 18,
   "id": "a6f41ef2",
   "metadata": {},
   "outputs": [
    {
     "name": "stdout",
     "output_type": "stream",
     "text": [
      "{3, 5, 6, 9}\n"
     ]
    }
   ],
   "source": [
    "#Symmetric Difference\n",
    "print(st1^st2)"
   ]
  },
  {
   "cell_type": "code",
   "execution_count": null,
   "id": "ad658fc4",
   "metadata": {},
   "outputs": [],
   "source": []
  }
 ],
 "metadata": {
  "kernelspec": {
   "display_name": "Python 3 (ipykernel)",
   "language": "python",
   "name": "python3"
  },
  "language_info": {
   "codemirror_mode": {
    "name": "ipython",
    "version": 3
   },
   "file_extension": ".py",
   "mimetype": "text/x-python",
   "name": "python",
   "nbconvert_exporter": "python",
   "pygments_lexer": "ipython3",
   "version": "3.9.12"
  }
 },
 "nbformat": 4,
 "nbformat_minor": 5
}
