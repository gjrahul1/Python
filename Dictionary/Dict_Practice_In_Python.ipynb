{
 "cells": [
  {
   "cell_type": "markdown",
   "id": "e0448dec",
   "metadata": {},
   "source": [
    "#### Dictionary"
   ]
  },
  {
   "cell_type": "code",
   "execution_count": 1,
   "id": "f6f7209d",
   "metadata": {},
   "outputs": [
    {
     "name": "stdout",
     "output_type": "stream",
     "text": [
      "{'key': 'value', 'key1': 'val1'}\n"
     ]
    }
   ],
   "source": [
    "#Example of dict syntax\n",
    "dict={'key':'value','key1':'val1'}\n",
    "print(dict)"
   ]
  },
  {
   "cell_type": "code",
   "execution_count": 2,
   "id": "40fe72ea",
   "metadata": {},
   "outputs": [],
   "source": [
    "#empty dict\n",
    "dict={}"
   ]
  },
  {
   "cell_type": "code",
   "execution_count": 4,
   "id": "6c3460f0",
   "metadata": {},
   "outputs": [
    {
     "name": "stdout",
     "output_type": "stream",
     "text": [
      "{'A': 65, 'B': 66, 'C': 67, 'D': 68}\n"
     ]
    }
   ],
   "source": [
    "dict1={'A':65,'B':66}\n",
    "dict2={'C':67,'D':68}\n",
    "dict1.update(dict2)\n",
    "print(dict1)"
   ]
  },
  {
   "cell_type": "code",
   "execution_count": 6,
   "id": "590713d2",
   "metadata": {},
   "outputs": [
    {
     "name": "stdout",
     "output_type": "stream",
     "text": [
      "Getting the values from the dict key\n",
      "Dict key A has value 65\n"
     ]
    }
   ],
   "source": [
    "print(\"Getting the values from the dict key\")\n",
    "print(\"Dict key A has value\",dict1['A'])"
   ]
  },
  {
   "cell_type": "markdown",
   "id": "3d62eedc",
   "metadata": {},
   "source": [
    "dict.keys() : will fetch us the keys from the dict. <br>\n",
    "dict.values() : will fetch us the values from the dict."
   ]
  },
  {
   "cell_type": "code",
   "execution_count": 7,
   "id": "747fd85a",
   "metadata": {},
   "outputs": [
    {
     "name": "stdout",
     "output_type": "stream",
     "text": [
      "Dict has the keys: dict_keys(['A', 'B', 'C', 'D'])\n"
     ]
    }
   ],
   "source": [
    "print(\"Dict has the keys:\",dict1.keys())"
   ]
  },
  {
   "cell_type": "code",
   "execution_count": 8,
   "id": "bcbc4b35",
   "metadata": {},
   "outputs": [
    {
     "name": "stdout",
     "output_type": "stream",
     "text": [
      "Dict has the values: dict_values([65, 66, 67, 68])\n"
     ]
    }
   ],
   "source": [
    "print(\"Dict has the values:\",dict1.values())"
   ]
  },
  {
   "cell_type": "markdown",
   "id": "dd101f20",
   "metadata": {},
   "source": [
    "#### Nested Dictionary"
   ]
  },
  {
   "cell_type": "code",
   "execution_count": 9,
   "id": "bf58dd81",
   "metadata": {},
   "outputs": [
    {
     "name": "stdout",
     "output_type": "stream",
     "text": [
      "{'1': {'A': 65, 'B': 66}, '2': {'C': 67, 'D': 68}}\n"
     ]
    }
   ],
   "source": [
    "#Nested Dict\n",
    "dict1={'A':65,'B':66}\n",
    "dict2={'C':67,'D':68}\n",
    "res={'1':dict1,'2':dict2}\n",
    "print(res)"
   ]
  },
  {
   "cell_type": "code",
   "execution_count": 10,
   "id": "49682420",
   "metadata": {},
   "outputs": [
    {
     "name": "stdout",
     "output_type": "stream",
     "text": [
      "{'A': 65, 'B': 66}\n"
     ]
    }
   ],
   "source": [
    "print(res['1'])"
   ]
  },
  {
   "cell_type": "code",
   "execution_count": 11,
   "id": "3b0f9050",
   "metadata": {},
   "outputs": [
    {
     "name": "stdout",
     "output_type": "stream",
     "text": [
      "{'C': 67, 'D': 68}\n"
     ]
    }
   ],
   "source": [
    "print(res['2'])"
   ]
  },
  {
   "cell_type": "markdown",
   "id": "44a480fb",
   "metadata": {},
   "source": [
    "#### Built-In Function"
   ]
  },
  {
   "cell_type": "code",
   "execution_count": 16,
   "id": "2afc8754",
   "metadata": {},
   "outputs": [],
   "source": [
    "#dict.fromkeys()\n",
    "dict1=(\"A\",'B')\n",
    "val1,val2=(65),(66)\n",
    "res= dict.fromkeys(dict1,val1)"
   ]
  },
  {
   "cell_type": "markdown",
   "id": "6f77d285",
   "metadata": {},
   "source": [
    ". Cannot pass more than two arguments for the above built-in function <br>\n",
    ". If dict.fromkeys() is called without passing an value as the argument, then <b>None</b> will be default value.\n"
   ]
  },
  {
   "cell_type": "code",
   "execution_count": 18,
   "id": "81ea4ba4",
   "metadata": {},
   "outputs": [
    {
     "data": {
      "text/plain": [
       "{'A': None, 'B': None}"
      ]
     },
     "execution_count": 18,
     "metadata": {},
     "output_type": "execute_result"
    }
   ],
   "source": [
    "tuple=(\"A\",\"B\")\n",
    "dict.fromkeys(tuple)"
   ]
  },
  {
   "cell_type": "code",
   "execution_count": 17,
   "id": "5ec5d704",
   "metadata": {},
   "outputs": [
    {
     "name": "stdout",
     "output_type": "stream",
     "text": [
      "{'A': 65, 'B': 65}\n"
     ]
    }
   ],
   "source": [
    "print(res)"
   ]
  },
  {
   "cell_type": "code",
   "execution_count": 19,
   "id": "12822e2c",
   "metadata": {},
   "outputs": [
    {
     "name": "stdout",
     "output_type": "stream",
     "text": [
      "{'A': 65}\n"
     ]
    }
   ],
   "source": [
    "res.pop('B')\n",
    "print(res)"
   ]
  },
  {
   "cell_type": "code",
   "execution_count": 24,
   "id": "1d0ef4ce",
   "metadata": {},
   "outputs": [
    {
     "name": "stdout",
     "output_type": "stream",
     "text": [
      "{'A': 65, 'C': 67, 'B': 66}\n",
      "{'A': 65, 'C': 67, 'B': 66}\n"
     ]
    }
   ],
   "source": [
    "res.update({'C':67})\n",
    "print(res)\n",
    "res.update({\"B\":66})\n",
    "print(res)\n",
    "#res1=tuple(res)\n",
    "#cannot convert dict to tuple"
   ]
  },
  {
   "cell_type": "markdown",
   "id": "c9408594",
   "metadata": {},
   "source": [
    "#### Practice Question"
   ]
  },
  {
   "cell_type": "markdown",
   "id": "59ba6a0d",
   "metadata": {},
   "source": [
    "Create a dictionary from the following tuple\n",
    "\n",
    "tpl = ( 'Set', 'VRAM', 'Slots')\n",
    "and assign values to the keys in the following order and print the dictionary :\n",
    "\n",
    "B550\n",
    "\n",
    "8g\n",
    "\n",
    "4"
   ]
  },
  {
   "cell_type": "code",
   "execution_count": 26,
   "id": "4fc98366",
   "metadata": {},
   "outputs": [
    {
     "name": "stdout",
     "output_type": "stream",
     "text": [
      "{'Set': 'B550', 'VRAM': '8g', 'Slots': 4}\n"
     ]
    }
   ],
   "source": [
    "tpl=('Set','VRAM','Slots')\n",
    "dt=dict.fromkeys(tpl)\n",
    "dt['Set']='B550'\n",
    "dt['VRAM']='8g'\n",
    "dt['Slots']=4\n",
    "print(dt)"
   ]
  },
  {
   "cell_type": "code",
   "execution_count": null,
   "id": "13cb848e",
   "metadata": {},
   "outputs": [],
   "source": []
  }
 ],
 "metadata": {
  "kernelspec": {
   "display_name": "Python 3 (ipykernel)",
   "language": "python",
   "name": "python3"
  },
  "language_info": {
   "codemirror_mode": {
    "name": "ipython",
    "version": 3
   },
   "file_extension": ".py",
   "mimetype": "text/x-python",
   "name": "python",
   "nbconvert_exporter": "python",
   "pygments_lexer": "ipython3",
   "version": "3.7.1"
  }
 },
 "nbformat": 4,
 "nbformat_minor": 5
}
